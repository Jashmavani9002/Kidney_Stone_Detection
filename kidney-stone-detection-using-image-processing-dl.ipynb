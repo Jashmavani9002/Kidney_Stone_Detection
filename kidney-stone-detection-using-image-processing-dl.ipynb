{
 "cells": [
  {
   "cell_type": "code",
   "execution_count": 1,
   "id": "af5bd054",
   "metadata": {
    "execution": {
     "iopub.execute_input": "2022-05-10T16:38:29.541307Z",
     "iopub.status.busy": "2022-05-10T16:38:29.540549Z",
     "iopub.status.idle": "2022-05-10T16:38:35.869507Z",
     "shell.execute_reply": "2022-05-10T16:38:35.868906Z",
     "shell.execute_reply.started": "2022-05-10T15:42:56.254209Z"
    },
    "papermill": {
     "duration": 6.367941,
     "end_time": "2022-05-10T16:38:35.869667",
     "exception": false,
     "start_time": "2022-05-10T16:38:29.501726",
     "status": "completed"
    },
    "tags": []
   },
   "outputs": [],
   "source": [
    "import numpy as np\n",
    "import pandas as pd\n",
    "import cv2\n",
    "from sklearn.utils.multiclass import unique_labels\n",
    "import os\n",
    "import matplotlib.pyplot as plt\n",
    "import matplotlib.image as mpimg\n",
    "import seaborn as sns\n",
    "import itertools\n",
    "from sklearn.model_selection import train_test_split\n",
    "from sklearn.metrics import confusion_matrix\n",
    "from keras import Sequential\n",
    "from keras.models import load_model\n",
    "from keras.applications.vgg16 import VGG16 #For Transfer Learning\n",
    "from keras.preprocessing.image import ImageDataGenerator\n",
    "from tensorflow.keras.optimizers import SGD,Adam\n",
    "from keras.callbacks import ReduceLROnPlateau\n",
    "from keras.layers import Flatten,Dense,BatchNormalization,Activation,Dropout\n",
    "from tensorflow.keras.utils import to_categorical"
   ]
  },
  {
   "cell_type": "code",
   "execution_count": 2,
   "id": "c4a53e67",
   "metadata": {
    "execution": {
     "iopub.execute_input": "2022-05-10T16:38:35.925263Z",
     "iopub.status.busy": "2022-05-10T16:38:35.924733Z",
     "iopub.status.idle": "2022-05-10T16:38:35.974412Z",
     "shell.execute_reply": "2022-05-10T16:38:35.974795Z",
     "shell.execute_reply.started": "2022-05-10T15:43:03.039644Z"
    },
    "papermill": {
     "duration": 0.078825,
     "end_time": "2022-05-10T16:38:35.974947",
     "exception": false,
     "start_time": "2022-05-10T16:38:35.896122",
     "status": "completed"
    },
    "tags": []
   },
   "outputs": [],
   "source": [
    "data = pd.read_csv('../input/ct-kidney-dataset-normal-cyst-tumor-and-stone/kidneyData.csv')"
   ]
  },
  {
   "cell_type": "code",
   "execution_count": 3,
   "id": "0a4eee2c",
   "metadata": {
    "execution": {
     "iopub.execute_input": "2022-05-10T16:38:36.037673Z",
     "iopub.status.busy": "2022-05-10T16:38:36.036967Z",
     "iopub.status.idle": "2022-05-10T16:38:36.050661Z",
     "shell.execute_reply": "2022-05-10T16:38:36.051065Z",
     "shell.execute_reply.started": "2022-05-10T15:43:03.088118Z"
    },
    "papermill": {
     "duration": 0.050564,
     "end_time": "2022-05-10T16:38:36.051192",
     "exception": false,
     "start_time": "2022-05-10T16:38:36.000628",
     "status": "completed"
    },
    "tags": []
   },
   "outputs": [
    {
     "data": {
      "text/html": [
       "<div>\n",
       "<style scoped>\n",
       "    .dataframe tbody tr th:only-of-type {\n",
       "        vertical-align: middle;\n",
       "    }\n",
       "\n",
       "    .dataframe tbody tr th {\n",
       "        vertical-align: top;\n",
       "    }\n",
       "\n",
       "    .dataframe thead th {\n",
       "        text-align: right;\n",
       "    }\n",
       "</style>\n",
       "<table border=\"1\" class=\"dataframe\">\n",
       "  <thead>\n",
       "    <tr style=\"text-align: right;\">\n",
       "      <th></th>\n",
       "      <th>Unnamed: 0</th>\n",
       "      <th>image_id</th>\n",
       "      <th>path</th>\n",
       "      <th>diag</th>\n",
       "      <th>target</th>\n",
       "      <th>Class</th>\n",
       "    </tr>\n",
       "  </thead>\n",
       "  <tbody>\n",
       "    <tr>\n",
       "      <th>0</th>\n",
       "      <td>0</td>\n",
       "      <td>Tumor- (1044)</td>\n",
       "      <td>/content/data/CT KIDNEY DATASET Normal, CYST, ...</td>\n",
       "      <td>Tumor</td>\n",
       "      <td>3</td>\n",
       "      <td>Tumor</td>\n",
       "    </tr>\n",
       "    <tr>\n",
       "      <th>1</th>\n",
       "      <td>1</td>\n",
       "      <td>Tumor- (83)</td>\n",
       "      <td>/content/data/CT KIDNEY DATASET Normal, CYST, ...</td>\n",
       "      <td>Tumor</td>\n",
       "      <td>3</td>\n",
       "      <td>Tumor</td>\n",
       "    </tr>\n",
       "    <tr>\n",
       "      <th>2</th>\n",
       "      <td>2</td>\n",
       "      <td>Tumor- (580)</td>\n",
       "      <td>/content/data/CT KIDNEY DATASET Normal, CYST, ...</td>\n",
       "      <td>Tumor</td>\n",
       "      <td>3</td>\n",
       "      <td>Tumor</td>\n",
       "    </tr>\n",
       "    <tr>\n",
       "      <th>3</th>\n",
       "      <td>3</td>\n",
       "      <td>Tumor- (1701)</td>\n",
       "      <td>/content/data/CT KIDNEY DATASET Normal, CYST, ...</td>\n",
       "      <td>Tumor</td>\n",
       "      <td>3</td>\n",
       "      <td>Tumor</td>\n",
       "    </tr>\n",
       "    <tr>\n",
       "      <th>4</th>\n",
       "      <td>4</td>\n",
       "      <td>Tumor- (1220)</td>\n",
       "      <td>/content/data/CT KIDNEY DATASET Normal, CYST, ...</td>\n",
       "      <td>Tumor</td>\n",
       "      <td>3</td>\n",
       "      <td>Tumor</td>\n",
       "    </tr>\n",
       "    <tr>\n",
       "      <th>...</th>\n",
       "      <td>...</td>\n",
       "      <td>...</td>\n",
       "      <td>...</td>\n",
       "      <td>...</td>\n",
       "      <td>...</td>\n",
       "      <td>...</td>\n",
       "    </tr>\n",
       "    <tr>\n",
       "      <th>12441</th>\n",
       "      <td>12441</td>\n",
       "      <td>Cyst- (2522)</td>\n",
       "      <td>/content/data/CT KIDNEY DATASET Normal, CYST, ...</td>\n",
       "      <td>Cyst</td>\n",
       "      <td>0</td>\n",
       "      <td>Cyst</td>\n",
       "    </tr>\n",
       "    <tr>\n",
       "      <th>12442</th>\n",
       "      <td>12442</td>\n",
       "      <td>Cyst- (2627)</td>\n",
       "      <td>/content/data/CT KIDNEY DATASET Normal, CYST, ...</td>\n",
       "      <td>Cyst</td>\n",
       "      <td>0</td>\n",
       "      <td>Cyst</td>\n",
       "    </tr>\n",
       "    <tr>\n",
       "      <th>12443</th>\n",
       "      <td>12443</td>\n",
       "      <td>Cyst- (972)</td>\n",
       "      <td>/content/data/CT KIDNEY DATASET Normal, CYST, ...</td>\n",
       "      <td>Cyst</td>\n",
       "      <td>0</td>\n",
       "      <td>Cyst</td>\n",
       "    </tr>\n",
       "    <tr>\n",
       "      <th>12444</th>\n",
       "      <td>12444</td>\n",
       "      <td>Cyst- (2323)</td>\n",
       "      <td>/content/data/CT KIDNEY DATASET Normal, CYST, ...</td>\n",
       "      <td>Cyst</td>\n",
       "      <td>0</td>\n",
       "      <td>Cyst</td>\n",
       "    </tr>\n",
       "    <tr>\n",
       "      <th>12445</th>\n",
       "      <td>12445</td>\n",
       "      <td>Cyst- (2145)</td>\n",
       "      <td>/content/data/CT KIDNEY DATASET Normal, CYST, ...</td>\n",
       "      <td>Cyst</td>\n",
       "      <td>0</td>\n",
       "      <td>Cyst</td>\n",
       "    </tr>\n",
       "  </tbody>\n",
       "</table>\n",
       "<p>12446 rows × 6 columns</p>\n",
       "</div>"
      ],
      "text/plain": [
       "       Unnamed: 0       image_id  \\\n",
       "0               0  Tumor- (1044)   \n",
       "1               1    Tumor- (83)   \n",
       "2               2   Tumor- (580)   \n",
       "3               3  Tumor- (1701)   \n",
       "4               4  Tumor- (1220)   \n",
       "...           ...            ...   \n",
       "12441       12441   Cyst- (2522)   \n",
       "12442       12442   Cyst- (2627)   \n",
       "12443       12443    Cyst- (972)   \n",
       "12444       12444   Cyst- (2323)   \n",
       "12445       12445   Cyst- (2145)   \n",
       "\n",
       "                                                    path   diag  target  Class  \n",
       "0      /content/data/CT KIDNEY DATASET Normal, CYST, ...  Tumor       3  Tumor  \n",
       "1      /content/data/CT KIDNEY DATASET Normal, CYST, ...  Tumor       3  Tumor  \n",
       "2      /content/data/CT KIDNEY DATASET Normal, CYST, ...  Tumor       3  Tumor  \n",
       "3      /content/data/CT KIDNEY DATASET Normal, CYST, ...  Tumor       3  Tumor  \n",
       "4      /content/data/CT KIDNEY DATASET Normal, CYST, ...  Tumor       3  Tumor  \n",
       "...                                                  ...    ...     ...    ...  \n",
       "12441  /content/data/CT KIDNEY DATASET Normal, CYST, ...   Cyst       0   Cyst  \n",
       "12442  /content/data/CT KIDNEY DATASET Normal, CYST, ...   Cyst       0   Cyst  \n",
       "12443  /content/data/CT KIDNEY DATASET Normal, CYST, ...   Cyst       0   Cyst  \n",
       "12444  /content/data/CT KIDNEY DATASET Normal, CYST, ...   Cyst       0   Cyst  \n",
       "12445  /content/data/CT KIDNEY DATASET Normal, CYST, ...   Cyst       0   Cyst  \n",
       "\n",
       "[12446 rows x 6 columns]"
      ]
     },
     "execution_count": 3,
     "metadata": {},
     "output_type": "execute_result"
    }
   ],
   "source": [
    "data"
   ]
  },
  {
   "cell_type": "code",
   "execution_count": 4,
   "id": "e0a06c55",
   "metadata": {
    "execution": {
     "iopub.execute_input": "2022-05-10T16:38:36.112292Z",
     "iopub.status.busy": "2022-05-10T16:38:36.111498Z",
     "iopub.status.idle": "2022-05-10T16:38:36.126947Z",
     "shell.execute_reply": "2022-05-10T16:38:36.127384Z",
     "shell.execute_reply.started": "2022-05-10T15:43:03.116020Z"
    },
    "papermill": {
     "duration": 0.050569,
     "end_time": "2022-05-10T16:38:36.127511",
     "exception": false,
     "start_time": "2022-05-10T16:38:36.076942",
     "status": "completed"
    },
    "tags": []
   },
   "outputs": [
    {
     "name": "stdout",
     "output_type": "stream",
     "text": [
      "<class 'pandas.core.frame.DataFrame'>\n",
      "RangeIndex: 12446 entries, 0 to 12445\n",
      "Data columns (total 6 columns):\n",
      " #   Column      Non-Null Count  Dtype \n",
      "---  ------      --------------  ----- \n",
      " 0   Unnamed: 0  12446 non-null  int64 \n",
      " 1   image_id    12446 non-null  object\n",
      " 2   path        12446 non-null  object\n",
      " 3   diag        12446 non-null  object\n",
      " 4   target      12446 non-null  int64 \n",
      " 5   Class       12446 non-null  object\n",
      "dtypes: int64(2), object(4)\n",
      "memory usage: 583.5+ KB\n"
     ]
    }
   ],
   "source": [
    "data.info()"
   ]
  },
  {
   "cell_type": "code",
   "execution_count": 5,
   "id": "c061e0eb",
   "metadata": {
    "execution": {
     "iopub.execute_input": "2022-05-10T16:38:36.184652Z",
     "iopub.status.busy": "2022-05-10T16:38:36.183934Z",
     "iopub.status.idle": "2022-05-10T16:38:36.187233Z",
     "shell.execute_reply": "2022-05-10T16:38:36.186778Z",
     "shell.execute_reply.started": "2022-05-10T15:43:03.142593Z"
    },
    "papermill": {
     "duration": 0.033859,
     "end_time": "2022-05-10T16:38:36.187336",
     "exception": false,
     "start_time": "2022-05-10T16:38:36.153477",
     "status": "completed"
    },
    "tags": []
   },
   "outputs": [
    {
     "data": {
      "text/plain": [
       "array(['Tumor', 'Normal', 'Stone', 'Cyst'], dtype=object)"
      ]
     },
     "execution_count": 5,
     "metadata": {},
     "output_type": "execute_result"
    }
   ],
   "source": [
    "data['Class'].unique()"
   ]
  },
  {
   "cell_type": "code",
   "execution_count": 6,
   "id": "e18416f8",
   "metadata": {
    "execution": {
     "iopub.execute_input": "2022-05-10T16:38:36.247875Z",
     "iopub.status.busy": "2022-05-10T16:38:36.247230Z",
     "iopub.status.idle": "2022-05-10T16:38:36.249967Z",
     "shell.execute_reply": "2022-05-10T16:38:36.250394Z",
     "shell.execute_reply.started": "2022-05-10T15:43:03.154473Z"
    },
    "papermill": {
     "duration": 0.036967,
     "end_time": "2022-05-10T16:38:36.250517",
     "exception": false,
     "start_time": "2022-05-10T16:38:36.213550",
     "status": "completed"
    },
    "tags": []
   },
   "outputs": [
    {
     "data": {
      "text/plain": [
       "Normal    5077\n",
       "Cyst      3709\n",
       "Tumor     2283\n",
       "Stone     1377\n",
       "Name: Class, dtype: int64"
      ]
     },
     "execution_count": 6,
     "metadata": {},
     "output_type": "execute_result"
    }
   ],
   "source": [
    "kidney_classes = data['Class'].value_counts()\n",
    "kidney_classes"
   ]
  },
  {
   "cell_type": "code",
   "execution_count": 7,
   "id": "854f7089",
   "metadata": {
    "execution": {
     "iopub.execute_input": "2022-05-10T16:38:36.310513Z",
     "iopub.status.busy": "2022-05-10T16:38:36.309872Z",
     "iopub.status.idle": "2022-05-10T16:38:36.533325Z",
     "shell.execute_reply": "2022-05-10T16:38:36.532838Z",
     "shell.execute_reply.started": "2022-05-10T15:43:03.164739Z"
    },
    "papermill": {
     "duration": 0.254302,
     "end_time": "2022-05-10T16:38:36.533456",
     "exception": false,
     "start_time": "2022-05-10T16:38:36.279154",
     "status": "completed"
    },
    "tags": []
   },
   "outputs": [
    {
     "data": {
      "image/png": "[encoded data removed]",
      "text/plain": [
       "<Figure size 432x288 with 1 Axes>"
      ]
     },
     "metadata": {
      "needs_background": "light"
     },
     "output_type": "display_data"
    }
   ],
   "source": [
    "plot_bar = kidney_classes.plot.bar(title='Total number of items in classes')\n",
    "plot_bar.bar_label(plot_bar.containers[0]);"
   ]
  },
  {
   "cell_type": "code",
   "execution_count": 8,
   "id": "efdd0a8d",
   "metadata": {
    "execution": {
     "iopub.execute_input": "2022-05-10T16:38:36.591896Z",
     "iopub.status.busy": "2022-05-10T16:38:36.591388Z",
     "iopub.status.idle": "2022-05-10T16:38:47.012703Z",
     "shell.execute_reply": "2022-05-10T16:38:47.012246Z",
     "shell.execute_reply.started": "2022-05-10T15:43:03.390525Z"
    },
    "papermill": {
     "duration": 10.452073,
     "end_time": "2022-05-10T16:38:47.012834",
     "exception": false,
     "start_time": "2022-05-10T16:38:36.560761",
     "status": "completed"
    },
    "tags": []
   },
   "outputs": [
    {
     "name": "stdout",
     "output_type": "stream",
     "text": [
      "Collecting split_folders\r\n",
      "  Downloading split_folders-0.5.1-py3-none-any.whl (8.4 kB)\r\n",
      "Installing collected packages: split-folders\r\n",
      "Successfully installed split-folders-0.5.1\r\n",
      "\u001b[33mWARNING: Running pip as the 'root' user can result in broken permissions and conflicting behaviour with the system package manager. It is recommended to use a virtual environment instead: https://pip.pypa.io/warnings/venv\u001b[0m\r\n",
      "Note: you may need to restart the kernel to use updated packages.\n"
     ]
    }
   ],
   "source": [
    "pip install split_folders"
   ]
  },
  {
   "cell_type": "code",
   "execution_count": 9,
   "id": "2aa43d79",
   "metadata": {
    "execution": {
     "iopub.execute_input": "2022-05-10T16:38:47.076141Z",
     "iopub.status.busy": "2022-05-10T16:38:47.075409Z",
     "iopub.status.idle": "2022-05-10T16:40:09.948970Z",
     "shell.execute_reply": "2022-05-10T16:40:09.948534Z",
     "shell.execute_reply.started": "2022-05-10T15:43:12.379134Z"
    },
    "papermill": {
     "duration": 82.907102,
     "end_time": "2022-05-10T16:40:09.949091",
     "exception": false,
     "start_time": "2022-05-10T16:38:47.041989",
     "status": "completed"
    },
    "tags": []
   },
   "outputs": [
    {
     "name": "stderr",
     "output_type": "stream",
     "text": [
      "Copying files: 12446 files [01:22, 150.22 files/s]\n"
     ]
    }
   ],
   "source": [
    "import splitfolders\n",
    "splitfolders.ratio(\"../input/ct-kidney-dataset-normal-cyst-tumor-and-stone/CT-KIDNEY-DATASET-Normal-Cyst-Tumor-Stone/CT-KIDNEY-DATASET-Normal-Cyst-Tumor-Stone\", output=\"dataset\", seed=1337, ratio=(.8, .1, .1), group_prefix=None)"
   ]
  },
  {
   "cell_type": "code",
   "execution_count": 10,
   "id": "964f60a7",
   "metadata": {
    "execution": {
     "iopub.execute_input": "2022-05-10T16:40:10.532008Z",
     "iopub.status.busy": "2022-05-10T16:40:10.531455Z",
     "iopub.status.idle": "2022-05-10T16:40:11.302412Z",
     "shell.execute_reply": "2022-05-10T16:40:11.304072Z",
     "shell.execute_reply.started": "2022-05-10T15:44:17.465507Z"
    },
    "papermill": {
     "duration": 1.113253,
     "end_time": "2022-05-10T16:40:11.304447",
     "exception": false,
     "start_time": "2022-05-10T16:40:10.191194",
     "status": "completed"
    },
    "tags": []
   },
   "outputs": [
    {
     "name": "stdout",
     "output_type": "stream",
     "text": [
      "Found 9955 images belonging to 4 classes.\n",
      "Found 1249 images belonging to 4 classes.\n",
      "Found 1242 images belonging to 4 classes.\n"
     ]
    }
   ],
   "source": [
    "channels=3\n",
    "batch_size=25\n",
    "test_batch_size=32 \n",
    "test_steps=1\n",
    "train_path = './dataset/train'\n",
    "test_path = './dataset/test'\n",
    "val_path = './dataset/val'\n",
    "\n",
    "def scalar(img):    \n",
    "    return img  # EfficientNet expects pixelsin range 0 to 255 so no scaling is required\n",
    "\n",
    "train_gen=ImageDataGenerator(preprocessing_function=scalar, horizontal_flip=True)\n",
    "test_gen=ImageDataGenerator(preprocessing_function=scalar)\n",
    "train_generator=train_gen.flow_from_directory( directory=train_path , target_size=(224,224), class_mode='categorical',\n",
    "                                     shuffle=True, batch_size=batch_size)\n",
    "test_generator=test_gen.flow_from_directory( directory=test_path, target_size=(224,224), class_mode='categorical',\n",
    "                                     shuffle=False, batch_size=test_batch_size)\n",
    "\n",
    "valid_generator=test_gen.flow_from_directory( directory=val_path, target_size=(224,224), class_mode='categorical',\n",
    "                                     shuffle=True, batch_size=batch_size)\n",
    "classes=list(train_generator.class_indices.keys())\n",
    "class_count=len(classes)\n",
    "train_steps=int(np.ceil(len(train_generator.labels)/batch_size))"
   ]
  },
  {
   "cell_type": "code",
   "execution_count": 11,
   "id": "1cb54e18",
   "metadata": {
    "execution": {
     "iopub.execute_input": "2022-05-10T16:40:12.034432Z",
     "iopub.status.busy": "2022-05-10T16:40:12.033635Z",
     "iopub.status.idle": "2022-05-10T16:40:16.354862Z",
     "shell.execute_reply": "2022-05-10T16:40:16.353884Z",
     "shell.execute_reply.started": "2022-05-10T15:44:18.241156Z"
    },
    "papermill": {
     "duration": 4.611767,
     "end_time": "2022-05-10T16:40:16.355019",
     "exception": false,
     "start_time": "2022-05-10T16:40:11.743252",
     "status": "completed"
    },
    "tags": []
   },
   "outputs": [
    {
     "name": "stderr",
     "output_type": "stream",
     "text": [
      "2022-05-10 16:40:12.119633: I tensorflow/stream_executor/cuda/cuda_gpu_executor.cc:937] successful NUMA node read from SysFS had negative value (-1), but there must be at least one NUMA node, so returning NUMA node zero\n",
      "2022-05-10 16:40:12.221098: I tensorflow/stream_executor/cuda/cuda_gpu_executor.cc:937] successful NUMA node read from SysFS had negative value (-1), but there must be at least one NUMA node, so returning NUMA node zero\n",
      "2022-05-10 16:40:12.221899: I tensorflow/stream_executor/cuda/cuda_gpu_executor.cc:937] successful NUMA node read from SysFS had negative value (-1), but there must be at least one NUMA node, so returning NUMA node zero\n",
      "2022-05-10 16:40:12.223242: I tensorflow/core/platform/cpu_feature_guard.cc:142] This TensorFlow binary is optimized with oneAPI Deep Neural Network Library (oneDNN) to use the following CPU instructions in performance-critical operations:  AVX2 AVX512F FMA\n",
      "To enable them in other operations, rebuild TensorFlow with the appropriate compiler flags.\n",
      "2022-05-10 16:40:12.224310: I tensorflow/stream_executor/cuda/cuda_gpu_executor.cc:937] successful NUMA node read from SysFS had negative value (-1), but there must be at least one NUMA node, so returning NUMA node zero\n",
      "2022-05-10 16:40:12.225191: I tensorflow/stream_executor/cuda/cuda_gpu_executor.cc:937] successful NUMA node read from SysFS had negative value (-1), but there must be at least one NUMA node, so returning NUMA node zero\n",
      "2022-05-10 16:40:12.226049: I tensorflow/stream_executor/cuda/cuda_gpu_executor.cc:937] successful NUMA node read from SysFS had negative value (-1), but there must be at least one NUMA node, so returning NUMA node zero\n",
      "2022-05-10 16:40:14.275054: I tensorflow/stream_executor/cuda/cuda_gpu_executor.cc:937] successful NUMA node read from SysFS had negative value (-1), but there must be at least one NUMA node, so returning NUMA node zero\n",
      "2022-05-10 16:40:14.275962: I tensorflow/stream_executor/cuda/cuda_gpu_executor.cc:937] successful NUMA node read from SysFS had negative value (-1), but there must be at least one NUMA node, so returning NUMA node zero\n",
      "2022-05-10 16:40:14.276661: I tensorflow/stream_executor/cuda/cuda_gpu_executor.cc:937] successful NUMA node read from SysFS had negative value (-1), but there must be at least one NUMA node, so returning NUMA node zero\n",
      "2022-05-10 16:40:14.277268: I tensorflow/core/common_runtime/gpu/gpu_device.cc:1510] Created device /job:localhost/replica:0/task:0/device:GPU:0 with 15403 MB memory:  -> device: 0, name: Tesla P100-PCIE-16GB, pci bus id: 0000:00:04.0, compute capability: 6.0\n"
     ]
    },
    {
     "name": "stdout",
     "output_type": "stream",
     "text": [
      "Downloading data from https://storage.googleapis.com/tensorflow/keras-applications/vgg16/vgg16_weights_tf_dim_ordering_tf_kernels_notop.h5\n",
      "58892288/58889256 [==============================] - 1s 0us/step\n",
      "58900480/58889256 [==============================] - 1s 0us/step\n"
     ]
    }
   ],
   "source": [
    "base_model = VGG16(include_top = False, input_shape = (224,224,3), classes = 38)\n",
    "model= Sequential()\n",
    "model.add(base_model) \n",
    "model.add(Flatten()) "
   ]
  },
  {
   "cell_type": "code",
   "execution_count": 12,
   "id": "5939e37e",
   "metadata": {
    "execution": {
     "iopub.execute_input": "2022-05-10T16:40:16.887532Z",
     "iopub.status.busy": "2022-05-10T16:40:16.886951Z",
     "iopub.status.idle": "2022-05-10T16:40:16.890323Z",
     "shell.execute_reply": "2022-05-10T16:40:16.890940Z",
     "shell.execute_reply.started": "2022-05-10T15:44:21.982736Z"
    },
    "papermill": {
     "duration": 0.256408,
     "end_time": "2022-05-10T16:40:16.891114",
     "exception": false,
     "start_time": "2022-05-10T16:40:16.634706",
     "status": "completed"
    },
    "tags": []
   },
   "outputs": [
    {
     "name": "stdout",
     "output_type": "stream",
     "text": [
      "Model: \"sequential\"\n",
      "_________________________________________________________________\n",
      "Layer (type)                 Output Shape              Param #   \n",
      "=================================================================\n",
      "vgg16 (Functional)           (None, 7, 7, 512)         14714688  \n",
      "_________________________________________________________________\n",
      "flatten (Flatten)            (None, 25088)             0         \n",
      "=================================================================\n",
      "Total params: 14,714,688\n",
      "Trainable params: 14,714,688\n",
      "Non-trainable params: 0\n",
      "_________________________________________________________________\n"
     ]
    }
   ],
   "source": [
    "model.summary()"
   ]
  },
  {
   "cell_type": "code",
   "execution_count": 13,
   "id": "331be442",
   "metadata": {
    "execution": {
     "iopub.execute_input": "2022-05-10T16:40:17.385409Z",
     "iopub.status.busy": "2022-05-10T16:40:17.380061Z",
     "iopub.status.idle": "2022-05-10T16:40:17.429837Z",
     "shell.execute_reply": "2022-05-10T16:40:17.430203Z",
     "shell.execute_reply.started": "2022-05-10T15:44:21.991679Z"
    },
    "papermill": {
     "duration": 0.294988,
     "end_time": "2022-05-10T16:40:17.430397",
     "exception": false,
     "start_time": "2022-05-10T16:40:17.135409",
     "status": "completed"
    },
    "tags": []
   },
   "outputs": [
    {
     "name": "stdout",
     "output_type": "stream",
     "text": [
      "Model: \"sequential\"\n",
      "_________________________________________________________________\n",
      "Layer (type)                 Output Shape              Param #   \n",
      "=================================================================\n",
      "vgg16 (Functional)           (None, 7, 7, 512)         14714688  \n",
      "_________________________________________________________________\n",
      "flatten (Flatten)            (None, 25088)             0         \n",
      "_________________________________________________________________\n",
      "dense (Dense)                (None, 1024)              25691136  \n",
      "_________________________________________________________________\n",
      "dense_1 (Dense)              (None, 512)               524800    \n",
      "_________________________________________________________________\n",
      "dense_2 (Dense)              (None, 256)               131328    \n",
      "_________________________________________________________________\n",
      "dropout (Dropout)            (None, 256)               0         \n",
      "_________________________________________________________________\n",
      "dense_3 (Dense)              (None, 128)               32896     \n",
      "_________________________________________________________________\n",
      "dense_4 (Dense)              (None, 4)                 516       \n",
      "=================================================================\n",
      "Total params: 41,095,364\n",
      "Trainable params: 41,095,364\n",
      "Non-trainable params: 0\n",
      "_________________________________________________________________\n"
     ]
    }
   ],
   "source": [
    "model.add(Dense(1024,activation=('relu'),input_dim=512))\n",
    "model.add(Dense(512,activation=('relu'))) \n",
    "model.add(Dense(256,activation=('relu'))) \n",
    "model.add(Dropout(.3))\n",
    "model.add(Dense(128,activation=('relu')))\n",
    "model.add(Dense(4,activation=('softmax'))) \n",
    "\n",
    "#Checking the final model summary\n",
    "model.summary()"
   ]
  },
  {
   "cell_type": "code",
   "execution_count": 14,
   "id": "adc61338",
   "metadata": {
    "execution": {
     "iopub.execute_input": "2022-05-10T16:40:18.104940Z",
     "iopub.status.busy": "2022-05-10T16:40:18.104138Z",
     "iopub.status.idle": "2022-05-10T16:40:18.116039Z",
     "shell.execute_reply": "2022-05-10T16:40:18.116675Z",
     "shell.execute_reply.started": "2022-05-10T15:44:22.047604Z"
    },
    "papermill": {
     "duration": 0.383618,
     "end_time": "2022-05-10T16:40:18.116867",
     "exception": false,
     "start_time": "2022-05-10T16:40:17.733249",
     "status": "completed"
    },
    "tags": []
   },
   "outputs": [],
   "source": [
    "batch_size= 1218\n",
    "epochs=15\n",
    "learn_rate=.001\n",
    "sgd=SGD(learning_rate=learn_rate,momentum=.9,nesterov=False)\n",
    "adam=Adam(learning_rate=learn_rate, beta_1=0.9, beta_2=0.999, epsilon=None, decay=0.0, amsgrad=False)\n",
    "model.compile(optimizer=sgd,loss='categorical_crossentropy',metrics=['accuracy'])"
   ]
  },
  {
   "cell_type": "code",
   "execution_count": 15,
   "id": "97c13d40",
   "metadata": {
    "execution": {
     "iopub.execute_input": "2022-05-10T16:40:18.939301Z",
     "iopub.status.busy": "2022-05-10T16:40:18.938548Z",
     "iopub.status.idle": "2022-05-10T16:59:00.798622Z",
     "shell.execute_reply": "2022-05-10T16:59:00.797720Z",
     "shell.execute_reply.started": "2022-05-10T15:44:22.064723Z"
    },
    "papermill": {
     "duration": 1122.271161,
     "end_time": "2022-05-10T16:59:00.798782",
     "exception": false,
     "start_time": "2022-05-10T16:40:18.527621",
     "status": "completed"
    },
    "tags": []
   },
   "outputs": [
    {
     "name": "stderr",
     "output_type": "stream",
     "text": [
      "2022-05-10 16:40:19.237803: I tensorflow/compiler/mlir/mlir_graph_optimization_pass.cc:185] None of the MLIR Optimization Passes are enabled (registered 2)\n"
     ]
    },
    {
     "name": "stdout",
     "output_type": "stream",
     "text": [
      "Epoch 1/10\n"
     ]
    },
    {
     "name": "stderr",
     "output_type": "stream",
     "text": [
      "2022-05-10 16:40:20.993296: I tensorflow/stream_executor/cuda/cuda_dnn.cc:369] Loaded cuDNN version 8005\n"
     ]
    },
    {
     "name": "stdout",
     "output_type": "stream",
     "text": [
      "399/399 [==============================] - 111s 252ms/step - loss: 1.0724 - accuracy: 0.5508 - val_loss: 0.8433 - val_accuracy: 0.6618\n",
      "Epoch 2/10\n",
      "399/399 [==============================] - 97s 243ms/step - loss: 0.4596 - accuracy: 0.8288 - val_loss: 0.2242 - val_accuracy: 0.9219\n",
      "Epoch 3/10\n",
      "399/399 [==============================] - 96s 241ms/step - loss: 0.1800 - accuracy: 0.9368 - val_loss: 0.0506 - val_accuracy: 0.9831\n",
      "Epoch 4/10\n",
      "399/399 [==============================] - 97s 243ms/step - loss: 0.0992 - accuracy: 0.9648 - val_loss: 0.0966 - val_accuracy: 0.9638\n",
      "Epoch 5/10\n",
      "399/399 [==============================] - 99s 247ms/step - loss: 0.0631 - accuracy: 0.9788 - val_loss: 0.0313 - val_accuracy: 0.9895\n",
      "Epoch 6/10\n",
      "399/399 [==============================] - 97s 242ms/step - loss: 0.0294 - accuracy: 0.9921 - val_loss: 0.0035 - val_accuracy: 1.0000\n",
      "Epoch 7/10\n",
      "399/399 [==============================] - 97s 243ms/step - loss: 0.0188 - accuracy: 0.9941 - val_loss: 0.0118 - val_accuracy: 0.9976\n",
      "Epoch 8/10\n",
      "399/399 [==============================] - 98s 246ms/step - loss: 0.0026 - accuracy: 0.9993 - val_loss: 0.0595 - val_accuracy: 0.9936\n",
      "Epoch 9/10\n",
      "399/399 [==============================] - 98s 245ms/step - loss: 0.0111 - accuracy: 0.9972 - val_loss: 0.0023 - val_accuracy: 0.9992\n",
      "Epoch 10/10\n",
      "399/399 [==============================] - 98s 246ms/step - loss: 0.0146 - accuracy: 0.9960 - val_loss: 0.0096 - val_accuracy: 0.9976\n"
     ]
    }
   ],
   "source": [
    "history = model.fit(train_generator,epochs = 10, validation_data = valid_generator, verbose = 1)"
   ]
  },
  {
   "cell_type": "code",
   "execution_count": 16,
   "id": "1260d2fa",
   "metadata": {
    "execution": {
     "iopub.execute_input": "2022-05-10T16:59:03.829586Z",
     "iopub.status.busy": "2022-05-10T16:59:03.827844Z",
     "iopub.status.idle": "2022-05-10T16:59:03.830251Z",
     "shell.execute_reply": "2022-05-10T16:59:03.830729Z",
     "shell.execute_reply.started": "2022-05-10T16:01:14.346722Z"
    },
    "papermill": {
     "duration": 1.534796,
     "end_time": "2022-05-10T16:59:03.830888",
     "exception": false,
     "start_time": "2022-05-10T16:59:02.296092",
     "status": "completed"
    },
    "tags": []
   },
   "outputs": [],
   "source": [
    "def print_info( test_gen, preds, save_dir, subject ):\n",
    "    class_dict=test_gen.class_indices\n",
    "    labels= test_gen.labels\n",
    "    file_names= test_gen.filenames \n",
    "    error_list=[]\n",
    "    true_class=[]\n",
    "    pred_class=[]\n",
    "    prob_list=[]\n",
    "    new_dict={}\n",
    "    error_indices=[]\n",
    "    y_pred=[]\n",
    "    for key,value in class_dict.items():\n",
    "        new_dict[value]=key             # dictionary {integer of class number: string of class name}\n",
    "    # store new_dict as a text fine in the save_dir\n",
    "    classes=list(new_dict.values())     # list of string of class names     \n",
    "    errors=0      \n",
    "    for i, p in enumerate(preds):\n",
    "        pred_index=np.argmax(p)         \n",
    "        true_index=labels[i]  # labels are integer values\n",
    "        if pred_index != true_index: # a misclassification has occurred\n",
    "            error_list.append(file_names[i])\n",
    "            true_class.append(new_dict[true_index])\n",
    "            pred_class.append(new_dict[pred_index])\n",
    "            prob_list.append(p[pred_index])\n",
    "            error_indices.append(true_index)            \n",
    "            errors=errors + 1\n",
    "        y_pred.append(pred_index)    \n",
    "#     if errors>0:\n",
    "#         plot_bar=[]\n",
    "#         plot_class=[]\n",
    "#         for  key, value in new_dict.items():        \n",
    "#             count=error_indices.count(key) \n",
    "#             if count!=0:\n",
    "#                 plot_bar.append(count) # list containg how many times a class c had an error\n",
    "#                 plot_class.append(value)   # stores the class \n",
    "#         fig=plt.figure()\n",
    "#         fig.set_figheight(len(plot_class)/3)\n",
    "#         fig.set_figwidth(10)\n",
    "#         plt.style.use('fivethirtyeight')\n",
    "#         for i in range(0, len(plot_class)):\n",
    "#             c=plot_class[i]\n",
    "#             x=plot_bar[i]\n",
    "#             plt.barh(c, x, )\n",
    "#             plt.title( ' Errors by Class on Test Set')\n",
    "    y_true= np.array(labels)        \n",
    "    y_pred=np.array(y_pred)\n",
    "    if len(classes)<= 40:\n",
    "        # create a confusion matrix \n",
    "        cm = confusion_matrix(y_true, y_pred )        \n",
    "        length=len(classes)\n",
    "        if length<8:\n",
    "            fig_width=8\n",
    "            fig_height=8\n",
    "        else:\n",
    "            fig_width= int(length * .5)\n",
    "            fig_height= int(length * .5)\n",
    "        plt.figure(figsize=(fig_width, fig_height))\n",
    "        sns.heatmap(cm, annot=True, vmin=0, fmt='g', cmap='Blues', cbar=False)       \n",
    "        plt.xticks(np.arange(length)+.5, classes, rotation= 90)\n",
    "        plt.yticks(np.arange(length)+.5, classes, rotation=0)\n",
    "        plt.xlabel(\"Predicted\")\n",
    "        plt.ylabel(\"Actual\")\n",
    "        plt.title(\"Confusion Matrix\")\n",
    "        plt.show()\n",
    "    clr = classification_report(y_true, y_pred, target_names=classes)\n",
    "    print(\"Classification Report:\\n----------------------\\n\", clr)"
   ]
  },
  {
   "cell_type": "code",
   "execution_count": null,
   "id": "664c5c03",
   "metadata": {
    "papermill": {
     "duration": 1.482224,
     "end_time": "2022-05-10T16:59:07.087019",
     "exception": false,
     "start_time": "2022-05-10T16:59:05.604795",
     "status": "completed"
    },
    "tags": []
   },
   "outputs": [],
   "source": []
  },
  {
   "cell_type": "code",
   "execution_count": 17,
   "id": "046e5641",
   "metadata": {
    "execution": {
     "iopub.execute_input": "2022-05-10T16:59:10.113705Z",
     "iopub.status.busy": "2022-05-10T16:59:10.112928Z",
     "iopub.status.idle": "2022-05-10T16:59:21.310962Z",
     "shell.execute_reply": "2022-05-10T16:59:21.311446Z",
     "shell.execute_reply.started": "2022-05-10T16:01:14.363549Z"
    },
    "papermill": {
     "duration": 12.666992,
     "end_time": "2022-05-10T16:59:21.311611",
     "exception": false,
     "start_time": "2022-05-10T16:59:08.644619",
     "status": "completed"
    },
    "tags": []
   },
   "outputs": [
    {
     "data": {
      "image/png": "[encoded data removed]",
      "text/plain": [
       "<Figure size 576x576 with 1 Axes>"
      ]
     },
     "metadata": {},
     "output_type": "display_data"
    },
    {
     "name": "stdout",
     "output_type": "stream",
     "text": [
      "Classification Report:\n",
      "----------------------\n",
      "               precision    recall  f1-score   support\n",
      "\n",
      "        Cyst       0.99      1.00      1.00       372\n",
      "      Normal       1.00      1.00      1.00       509\n",
      "       Stone       0.99      1.00      1.00       139\n",
      "       Tumor       1.00      0.99      1.00       229\n",
      "\n",
      "    accuracy                           1.00      1249\n",
      "   macro avg       1.00      1.00      1.00      1249\n",
      "weighted avg       1.00      1.00      1.00      1249\n",
      "\n"
     ]
    }
   ],
   "source": [
    "import seaborn as sns\n",
    "sns.set_style('darkgrid')\n",
    "from PIL import Image\n",
    "from sklearn.metrics import confusion_matrix, classification_report\n",
    "p = model.predict(test_generator)\n",
    "print_info( test_generator, p, r'./', 'kidney')  "
   ]
  },
  {
   "cell_type": "code",
   "execution_count": 18,
   "id": "acbef46f",
   "metadata": {
    "execution": {
     "iopub.execute_input": "2022-05-10T16:59:24.415686Z",
     "iopub.status.busy": "2022-05-10T16:59:24.413670Z",
     "iopub.status.idle": "2022-05-10T16:59:35.031993Z",
     "shell.execute_reply": "2022-05-10T16:59:35.031463Z",
     "shell.execute_reply.started": "2022-05-10T16:01:25.487197Z"
    },
    "papermill": {
     "duration": 12.193194,
     "end_time": "2022-05-10T16:59:35.032137",
     "exception": false,
     "start_time": "2022-05-10T16:59:22.838943",
     "status": "completed"
    },
    "tags": []
   },
   "outputs": [
    {
     "name": "stdout",
     "output_type": "stream",
     "text": [
      "40/40 [==============================] - 9s 225ms/step - loss: 0.0099 - accuracy: 0.9976\n"
     ]
    },
    {
     "data": {
      "text/plain": [
       "[0.009943887591362, 0.9975980520248413]"
      ]
     },
     "execution_count": 18,
     "metadata": {},
     "output_type": "execute_result"
    }
   ],
   "source": [
    "model.evaluate(test_generator)"
   ]
  },
  {
   "cell_type": "code",
   "execution_count": 19,
   "id": "d3e80030",
   "metadata": {
    "execution": {
     "iopub.execute_input": "2022-05-10T16:59:38.475203Z",
     "iopub.status.busy": "2022-05-10T16:59:38.474446Z",
     "iopub.status.idle": "2022-05-10T16:59:39.079966Z",
     "shell.execute_reply": "2022-05-10T16:59:39.079464Z",
     "shell.execute_reply.started": "2022-05-10T16:01:36.116815Z"
    },
    "papermill": {
     "duration": 2.441037,
     "end_time": "2022-05-10T16:59:39.080089",
     "exception": false,
     "start_time": "2022-05-10T16:59:36.639052",
     "status": "completed"
    },
    "tags": []
   },
   "outputs": [],
   "source": [
    "model.save(\"vgg16.h5\")"
   ]
  },
  {
   "cell_type": "code",
   "execution_count": 20,
   "id": "899f2f4c",
   "metadata": {
    "execution": {
     "iopub.execute_input": "2022-05-10T16:59:42.098783Z",
     "iopub.status.busy": "2022-05-10T16:59:42.097757Z",
     "iopub.status.idle": "2022-05-10T16:59:42.679444Z",
     "shell.execute_reply": "2022-05-10T16:59:42.678448Z",
     "shell.execute_reply.started": "2022-05-10T16:01:36.741329Z"
    },
    "papermill": {
     "duration": 2.100743,
     "end_time": "2022-05-10T16:59:42.679601",
     "exception": false,
     "start_time": "2022-05-10T16:59:40.578858",
     "status": "completed"
    },
    "tags": []
   },
   "outputs": [],
   "source": [
    "import shutil \n",
    "shutil.rmtree('./dataset')"
   ]
  },
  {
   "cell_type": "code",
   "execution_count": 21,
   "id": "f91a8df9",
   "metadata": {
    "execution": {
     "iopub.execute_input": "2022-05-10T16:59:45.733808Z",
     "iopub.status.busy": "2022-05-10T16:59:45.732776Z",
     "iopub.status.idle": "2022-05-10T16:59:45.735682Z",
     "shell.execute_reply": "2022-05-10T16:59:45.736066Z",
     "shell.execute_reply.started": "2022-05-10T16:01:37.297844Z"
    },
    "papermill": {
     "duration": 1.546656,
     "end_time": "2022-05-10T16:59:45.736204",
     "exception": false,
     "start_time": "2022-05-10T16:59:44.189548",
     "status": "completed"
    },
    "tags": []
   },
   "outputs": [
    {
     "data": {
      "text/plain": [
       "dict_keys(['loss', 'accuracy', 'val_loss', 'val_accuracy'])"
      ]
     },
     "execution_count": 21,
     "metadata": {},
     "output_type": "execute_result"
    }
   ],
   "source": [
    "history.params\n",
    "history.history.keys()"
   ]
  },
  {
   "cell_type": "code",
   "execution_count": 22,
   "id": "1273df52",
   "metadata": {
    "execution": {
     "iopub.execute_input": "2022-05-10T16:59:49.099396Z",
     "iopub.status.busy": "2022-05-10T16:59:49.098588Z",
     "iopub.status.idle": "2022-05-10T16:59:49.101142Z",
     "shell.execute_reply": "2022-05-10T16:59:49.100703Z",
     "shell.execute_reply.started": "2022-05-10T16:01:37.306298Z"
    },
    "papermill": {
     "duration": 1.83542,
     "end_time": "2022-05-10T16:59:49.101283",
     "exception": false,
     "start_time": "2022-05-10T16:59:47.265863",
     "status": "completed"
    },
    "tags": []
   },
   "outputs": [],
   "source": [
    "acc = history.history['accuracy']\n",
    "val_acc = history.history['val_accuracy']"
   ]
  },
  {
   "cell_type": "code",
   "execution_count": 23,
   "id": "fa15bc33",
   "metadata": {
    "execution": {
     "iopub.execute_input": "2022-05-10T16:59:52.112638Z",
     "iopub.status.busy": "2022-05-10T16:59:52.110998Z",
     "iopub.status.idle": "2022-05-10T16:59:52.113274Z",
     "shell.execute_reply": "2022-05-10T16:59:52.113681Z",
     "shell.execute_reply.started": "2022-05-10T16:01:37.314645Z"
    },
    "papermill": {
     "duration": 1.519308,
     "end_time": "2022-05-10T16:59:52.113813",
     "exception": false,
     "start_time": "2022-05-10T16:59:50.594505",
     "status": "completed"
    },
    "tags": []
   },
   "outputs": [],
   "source": [
    "loss = history.history['loss']\n",
    "val_loss = history.history['val_loss']"
   ]
  },
  {
   "cell_type": "code",
   "execution_count": 24,
   "id": "576f8b0a",
   "metadata": {
    "execution": {
     "iopub.execute_input": "2022-05-10T16:59:55.189943Z",
     "iopub.status.busy": "2022-05-10T16:59:55.180973Z",
     "iopub.status.idle": "2022-05-10T16:59:55.414382Z",
     "shell.execute_reply": "2022-05-10T16:59:55.414760Z",
     "shell.execute_reply.started": "2022-05-10T16:01:37.323526Z"
    },
    "papermill": {
     "duration": 1.795769,
     "end_time": "2022-05-10T16:59:55.414906",
     "exception": false,
     "start_time": "2022-05-10T16:59:53.619137",
     "status": "completed"
    },
    "tags": []
   },
   "outputs": [
    {
     "data": {
      "text/plain": [
       "Text(0.5, 1.0, 'Training and Validation Accuracy')"
      ]
     },
     "execution_count": 24,
     "metadata": {},
     "output_type": "execute_result"
    },
    {
     "data": {
      "image/png": "[encoded data removed]",
      "text/plain": [
       "<Figure size 576x576 with 1 Axes>"
      ]
     },
     "metadata": {},
     "output_type": "display_data"
    }
   ],
   "source": [
    "plt.figure(figsize=(8, 8))\n",
    "plt.subplot(1, 2, 1)\n",
    "plt.plot(range(10), acc, label='Training Accuracy')\n",
    "plt.plot(range(10), val_acc, label='Validation Accuracy')\n",
    "plt.legend(loc='lower right')\n",
    "plt.title('Training and Validation Accuracy')"
   ]
  },
  {
   "cell_type": "code",
   "execution_count": 25,
   "id": "0170ca3e",
   "metadata": {
    "execution": {
     "iopub.execute_input": "2022-05-10T16:59:58.436301Z",
     "iopub.status.busy": "2022-05-10T16:59:58.435435Z",
     "iopub.status.idle": "2022-05-10T16:59:58.632206Z",
     "shell.execute_reply": "2022-05-10T16:59:58.631774Z",
     "shell.execute_reply.started": "2022-05-10T16:01:37.570764Z"
    },
    "papermill": {
     "duration": 1.715333,
     "end_time": "2022-05-10T16:59:58.632373",
     "exception": false,
     "start_time": "2022-05-10T16:59:56.917040",
     "status": "completed"
    },
    "tags": []
   },
   "outputs": [
    {
     "data": {
      "image/png": "[encoded data removed]",
      "text/plain": [
       "<Figure size 432x288 with 1 Axes>"
      ]
     },
     "metadata": {},
     "output_type": "display_data"
    }
   ],
   "source": [
    "plt.subplot(1, 2, 2)\n",
    "plt.plot(range(10), loss, label='Training Loss')\n",
    "plt.plot(range(10), val_loss, label='Validation Loss')\n",
    "plt.legend(loc='upper right')\n",
    "plt.title('Training and Validation Loss')\n",
    "plt.show()"
   ]
  },
  {
   "cell_type": "code",
   "execution_count": 26,
   "id": "57f32bf6",
   "metadata": {
    "execution": {
     "iopub.execute_input": "2022-05-10T17:00:01.945770Z",
     "iopub.status.busy": "2022-05-10T17:00:01.945087Z",
     "iopub.status.idle": "2022-05-10T17:00:02.239922Z",
     "shell.execute_reply": "2022-05-10T17:00:02.238777Z",
     "shell.execute_reply.started": "2022-05-10T16:34:32.243971Z"
    },
    "papermill": {
     "duration": 1.808368,
     "end_time": "2022-05-10T17:00:02.240164",
     "exception": true,
     "start_time": "2022-05-10T17:00:00.431796",
     "status": "failed"
    },
    "tags": []
   },
   "outputs": [
    {
     "ename": "StdinNotImplementedError",
     "evalue": "raw_input was called, but this frontend does not support input requests.",
     "output_type": "error",
     "traceback": [
      "\u001b[0;31m---------------------------------------------------------------------------\u001b[0m",
      "\u001b[0;31mStdinNotImplementedError\u001b[0m                  Traceback (most recent call last)",
      "\u001b[0;32m/tmp/ipykernel_24/4055630902.py\u001b[0m in \u001b[0;36m<module>\u001b[0;34m\u001b[0m\n\u001b[0;32m----> 1\u001b[0;31m \u001b[0mpath\u001b[0m \u001b[0;34m=\u001b[0m \u001b[0minput\u001b[0m\u001b[0;34m(\u001b[0m\u001b[0;34m\"Enter Image path: \"\u001b[0m\u001b[0;34m)\u001b[0m\u001b[0;34m\u001b[0m\u001b[0;34m\u001b[0m\u001b[0m\n\u001b[0m",
      "\u001b[0;32m/opt/conda/lib/python3.7/site-packages/ipykernel/kernelbase.py\u001b[0m in \u001b[0;36mraw_input\u001b[0;34m(self, prompt)\u001b[0m\n\u001b[1;32m   1003\u001b[0m         \u001b[0;32mif\u001b[0m \u001b[0;32mnot\u001b[0m \u001b[0mself\u001b[0m\u001b[0;34m.\u001b[0m\u001b[0m_allow_stdin\u001b[0m\u001b[0;34m:\u001b[0m\u001b[0;34m\u001b[0m\u001b[0;34m\u001b[0m\u001b[0m\n\u001b[1;32m   1004\u001b[0m             raise StdinNotImplementedError(\n\u001b[0;32m-> 1005\u001b[0;31m                 \u001b[0;34m\"raw_input was called, but this frontend does not support input requests.\"\u001b[0m\u001b[0;34m\u001b[0m\u001b[0;34m\u001b[0m\u001b[0m\n\u001b[0m\u001b[1;32m   1006\u001b[0m             )\n\u001b[1;32m   1007\u001b[0m         return self._input_request(\n",
      "\u001b[0;31mStdinNotImplementedError\u001b[0m: raw_input was called, but this frontend does not support input requests."
     ]
    }
   ],
   "source": [
    "path = input(\"Enter Image path: \")"
   ]
  },
  {
   "cell_type": "code",
   "execution_count": null,
   "id": "445c6fbb",
   "metadata": {
    "execution": {
     "iopub.execute_input": "2022-05-10T16:34:35.894413Z",
     "iopub.status.busy": "2022-05-10T16:34:35.894126Z",
     "iopub.status.idle": "2022-05-10T16:34:36.841837Z",
     "shell.execute_reply": "2022-05-10T16:34:36.841187Z",
     "shell.execute_reply.started": "2022-05-10T16:34:35.894376Z"
    },
    "papermill": {
     "duration": null,
     "end_time": null,
     "exception": null,
     "start_time": null,
     "status": "pending"
    },
    "tags": []
   },
   "outputs": [],
   "source": [
    "import cv2\n",
    "import numpy as np\n",
    "import matplotlib.pyplot as plt\n",
    "\n",
    "image = cv2.imread(path)\n",
    "\n",
    "fig = plt.figure(figsize=(100,100))\n",
    " \n",
    "# Use the cvtColor() function to grayscale the image\n",
    "gray_image = cv2.cvtColor(image, cv2.COLOR_BGR2GRAY)\n",
    "fig.add_subplot(1, 4, 1)\n",
    "plt.imshow(gray_image,interpolation='nearest')\n",
    "plt.axis('off')\n",
    "\n",
    "img_median = cv2.medianBlur(gray_image, 5)\n",
    "\n",
    "fig.add_subplot(1, 4, 2)\n",
    "plt.imshow(img_median,interpolation='nearest')\n",
    "plt.axis('off')\n",
    "# equ = cv2.equalizeHist(img_median)\n",
    "\n",
    "gamma_corrected = np.array(255*(img_median / 255) ** 2.5, dtype = 'uint8')"
   ]
  },
  {
   "cell_type": "code",
   "execution_count": null,
   "id": "4aeb22d8",
   "metadata": {
    "execution": {
     "iopub.execute_input": "2022-05-10T16:34:36.843867Z",
     "iopub.status.busy": "2022-05-10T16:34:36.843444Z",
     "iopub.status.idle": "2022-05-10T16:34:37.065993Z",
     "shell.execute_reply": "2022-05-10T16:34:37.065206Z",
     "shell.execute_reply.started": "2022-05-10T16:34:36.843833Z"
    },
    "papermill": {
     "duration": null,
     "end_time": null,
     "exception": null,
     "start_time": null,
     "status": "pending"
    },
    "tags": []
   },
   "outputs": [],
   "source": [
    "fig.add_subplot(1, 4, 3)\n",
    "plt.imshow(gamma_corrected,interpolation='nearest')\n",
    "plt.axis('off')\n",
    "\n",
    "ret, thresh1 = cv2.threshold(gamma_corrected, 120, 255, cv2.THRESH_BINARY)\n",
    "\n",
    "fig.add_subplot(1, 4, 4)\n",
    "plt.imshow(thresh1,interpolation='nearest')\n",
    "plt.axis('off')"
   ]
  },
  {
   "cell_type": "code",
   "execution_count": null,
   "id": "15988d0d",
   "metadata": {
    "papermill": {
     "duration": null,
     "end_time": null,
     "exception": null,
     "start_time": null,
     "status": "pending"
    },
    "tags": []
   },
   "outputs": [],
   "source": []
  }
 ],
 "metadata": {
  "kernelspec": {
   "display_name": "Python 3",
   "language": "python",
   "name": "python3"
  },
  "language_info": {
   "codemirror_mode": {
    "name": "ipython",
    "version": 3
   },
   "file_extension": ".py",
   "mimetype": "text/x-python",
   "name": "python",
   "nbconvert_exporter": "python",
   "pygments_lexer": "ipython3",
   "version": "3.7.12"
  },
  "papermill": {
   "default_parameters": {},
   "duration": 1305.832711,
   "end_time": "2022-05-10T17:00:07.286381",
   "environment_variables": {},
   "exception": true,
   "input_path": "__notebook__.ipynb",
   "output_path": "__notebook__.ipynb",
   "parameters": {},
   "start_time": "2022-05-10T16:38:21.453670",
   "version": "2.3.3"
  }
 },
 "nbformat": 4,
 "nbformat_minor": 5
}
